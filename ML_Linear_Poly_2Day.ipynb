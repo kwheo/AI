{
  "nbformat": 4,
  "nbformat_minor": 0,
  "metadata": {
    "colab": {
      "provenance": []
    },
    "kernelspec": {
      "name": "python3",
      "display_name": "Python 3"
    },
    "language_info": {
      "name": "python"
    }
  },
  "cells": [
    {
      "cell_type": "markdown",
      "source": [
        "# 2일차 – 회귀 알고리즘 심화 강의\n",
        "\n",
        "---\n",
        "\n",
        "## 1. 선형 회귀 vs 다항 회귀\n",
        "\n",
        "- **선형 회귀 (Linear Regression)**  \n",
        "  - 가정: y = w₀ + w₁x₁ + … + wₚxₚ  \n",
        "  - Closed-form(OLS) 또는 경사하강법 사용  \n",
        "- **다항 회귀 (Polynomial Regression)**  \n",
        "  - 특성 확장: x², x³ … → 비선형 관계 모델링  \n",
        "  - degree 조절로 모델 복잡도 조정  \n",
        "\n",
        "---\n",
        "## 경사하강법(Gradient Descent) 쉽게 이해하기\n",
        "\n",
        "---\n",
        "\n",
        "### 1. 무엇을 하는 알고리즘인가?\n",
        "- **목적**: 손실 함수(loss function)를 **최솟값**으로 만드는 파라미터(모델 가중치)를 찾아가는 최적화 방법  \n",
        "- **핵심 아이디어**: “내리막길을 따라 내려가라”  \n",
        "  1. 현재 위치(파라미터)에서 **기울기(경사)**를 계산  \n",
        "  2. 기울기가 가리키는 방향의 **반대 방향**으로 일정량 이동  \n",
        "  3. 손실이 더 작아지면 이동을 계속, 더 이상 줄어들지 않을 때까지 반복\n",
        "\n",
        "---\n",
        "\n",
        "### 2. 직관적 예시: 산 언덕 비유\n",
        "- **산 꼭대기**에 공을 올려두면, **경사**를 따라 공이 아래로 굴러떨어지듯  \n",
        "- 손실 함수의 **최솟값 지점**(골짜기)까지 반복해서 한 걸음씩 이동  \n",
        "\n",
        "---\n",
        "\n",
        "### 3. 수식\n",
        "- 파라미터 \\(w\\)를 업데이트 하는 일반적 식:\n",
        "  \\[\n",
        "    w \\leftarrow w - \\alpha \\, \\frac{\\partial L(w)}{\\partial w}\n",
        "  \\]\n",
        "  - \\(L(w)\\): 손실 함수  \n",
        "  - \\(\\frac{\\partial L}{\\partial w}\\): 손실 함수의 기울기(미분)  \n",
        "  - \\(\\alpha\\) (학습률, learning rate): 한 번에 움직이는 **스텝 크기**\n",
        "\n",
        "---\n",
        "\n",
        "## 2. 과대적합 vs 과소적합\n",
        "\n",
        "- **과소적합 (Underfitting)**  \n",
        "  - 모델 복잡도 부족 → 학습·테스트 MSE 모두 높음  \n",
        "- **과대적합 (Overfitting)**  \n",
        "  - 모델 복잡도 과다 → 학습 MSE 낮음, 테스트 MSE 높음  \n",
        "\n",
        "---\n",
        "\n",
        "## 3. 보강 주제\n",
        "\n",
        "1. **정규화 (Regularization)**  \n",
        "   - Ridge (L₂), Lasso (L₁)  \n",
        "   - 과대적합 완화  \n",
        "2. **교차검증 (Cross-Validation)**  \n",
        "   - K-Fold, GridSearchCV  \n",
        "   - 하이퍼파라미터 검증  \n",
        "3. **모델 평가 지표**  \n",
        "   - 회귀: MSE, MAE, R²  \n",
        "4. **학습 곡선 (Learning Curve)**  \n",
        "   - 데이터 양 대 성능 변화 시각화  \n"
      ],
      "metadata": {
        "id": "ZB5Wg20DN6i7"
      }
    },
    {
      "cell_type": "code",
      "source": [
        "# 의사코드 (Pseudo-code)\n",
        "w = 4.0\n",
        "alpha = 0.1\n",
        "for i in range(20):\n",
        "    grad = 2 * w             # f'(w) = 2w\n",
        "    w = w - alpha * grad     # 경사하강법 업데이트\n",
        "    print(f\"step {i}: w = {w:.4f}, f(w)={w**2:.4f}\")"
      ],
      "metadata": {
        "colab": {
          "base_uri": "https://localhost:8080/"
        },
        "id": "pGoaDZi4RiLN",
        "outputId": "3225beb8-8de8-4eea-b347-0078f3f3f709"
      },
      "execution_count": null,
      "outputs": [
        {
          "output_type": "stream",
          "name": "stdout",
          "text": [
            "step 0: w = 3.2000, f(w)=10.2400\n",
            "step 1: w = 2.5600, f(w)=6.5536\n",
            "step 2: w = 2.0480, f(w)=4.1943\n",
            "step 3: w = 1.6384, f(w)=2.6844\n",
            "step 4: w = 1.3107, f(w)=1.7180\n",
            "step 5: w = 1.0486, f(w)=1.0995\n",
            "step 6: w = 0.8389, f(w)=0.7037\n",
            "step 7: w = 0.6711, f(w)=0.4504\n",
            "step 8: w = 0.5369, f(w)=0.2882\n",
            "step 9: w = 0.4295, f(w)=0.1845\n",
            "step 10: w = 0.3436, f(w)=0.1181\n",
            "step 11: w = 0.2749, f(w)=0.0756\n",
            "step 12: w = 0.2199, f(w)=0.0484\n",
            "step 13: w = 0.1759, f(w)=0.0309\n",
            "step 14: w = 0.1407, f(w)=0.0198\n",
            "step 15: w = 0.1126, f(w)=0.0127\n",
            "step 16: w = 0.0901, f(w)=0.0081\n",
            "step 17: w = 0.0721, f(w)=0.0052\n",
            "step 18: w = 0.0576, f(w)=0.0033\n",
            "step 19: w = 0.0461, f(w)=0.0021\n"
          ]
        }
      ]
    },
    {
      "cell_type": "markdown",
      "source": [
        "5. 학습률 선택의 중요성\n",
        "* 너무 크면: 골짜기를 “건너뛰며” 발산\n",
        "\n",
        "* 너무 작으면: 수렴 속도가 느림\n",
        "\n",
        "6. 변형된 알고리즘\n",
        "* 확률적 경사하강법 (SGD): 매 스텝마다 전체 데이터가 아니라 한 개(또는 일부) 샘플으로 기울기 계산 → 속도·일반화 향상\n",
        "\n",
        "* 모멘텀, Adam 등: 과거 기울기를 누적·조정하여 더 빠르고 안정적 수렴"
      ],
      "metadata": {
        "id": "6Ni8PopkhybC"
      }
    },
    {
      "cell_type": "markdown",
      "source": [
        "# 확률적 경사하강법 + Momentum & Adam 쉽게 이해하기\n",
        "\n",
        "---\n",
        "\n",
        "## 1. 기본 SGD (Stochastic Gradient Descent)\n",
        "\n",
        "- **아이디어**: 전체 데이터를 쓰지 않고, 매번 일부(또는 한 샘플)만 골라  \n",
        "  → 기울기를 구하고  \n",
        "  → 그 반대 방향으로 “한 걸음” 이동  \n",
        "- **비유**:  \n",
        "  - 폭 넓은 숲길을 걸을 때, 매번 주변 몇 걸음만 살짝 살피고 내려가기  \n",
        "\n",
        "---\n",
        "\n",
        "## 2. Momentum\n",
        "\n",
        "- **핵심**: “관성”을 추가  \n",
        "- **어떻게?**  \n",
        "  1. 지금 이동할 방향(기울기)뿐 아니라  \n",
        "  2. **바로 전** 내가 움직였던 방향도 기억  \n",
        "  3. 두 방향을 섞어서 이동  \n",
        "- **비유**:  \n",
        "  - 공을 언덕 위에 놓으면, 언덕 아래로 굴러가다 한 번에 너무 급격히 흔들리지 않고  \n",
        "  - 관성으로 쭉 밀려 내려가듯  \n",
        "- **효과**:  \n",
        "  - 울퉁불퉁한 기울기에도 **덜 흔들리고**  \n",
        "  - 평탄한 방향으로는 **더 빨리** 내려감  \n",
        "\n",
        "---\n",
        "\n",
        "## 3. Adam\n",
        "\n",
        "- **핵심**: 크게 **두 가지 장점** 결합  \n",
        "  1. **Momentum**처럼 “방향 기억”  \n",
        "  2. **학습률 자동 조정**(RMSProp 같은 아이디어)  \n",
        "- **어떻게?**  \n",
        "  - “얼마나 급하게 내려왔는지” 기록 →  \n",
        "  - 너무 튀는 방향엔 **학습을 천천히**,  \n",
        "  - 완만한 방향엔 **학습을 빠르게**  \n",
        "- **비유**:  \n",
        "  - 등산할 때  \n",
        "    - 발걸음이 가팔랐던 길은 천천히,  \n",
        "    - 완만했던 길은 빠르게 걷도록  \n",
        "    - 또한, “최근 걸음 방향”도 기억해  \n",
        "- **효과**:  \n",
        "  - **탄력적** 이동 → 초반 빠른 적응  \n",
        "  - 파라미터별로 “다르게” 배우기  \n",
        "\n",
        "---\n",
        "\n",
        "## 4. 요약 비교\n",
        "\n",
        "| 특징            | SGD       | SGD + Momentum              | Adam                          |\n",
        "|---------------|----------|-----------------------------|-------------------------------|\n",
        "| 이동 방향 기억   | ×        | ○ (바로 전 방향 기억)         | ○ (바로 전 방향 기억)          |\n",
        "| 학습률 조정      | 고정      | 고정                         | ○ (자동)                      |\n",
        "| 진동 억제       | ×        | ○                            | ○                            |\n",
        "| 수렴 속도       | 느림      | 빠름                         | 빠르고 안정적                 |\n",
        "\n",
        "---\n",
        "\n",
        "> **직관 팁**:  \n",
        "> - **Momentum**은 “방향을 부드럽게”  \n",
        "> - **Adam**은 “방향 + 속도(학습 속도)를 똑똑하게” 조절합니다  \n"
      ],
      "metadata": {
        "id": "n5xmzSxAiJGR"
      }
    },
    {
      "cell_type": "markdown",
      "source": [
        "# 2일차 – 회귀 알고리즘 심화: 다항 회귀 vs 다중 회귀\n",
        "\n",
        "---\n",
        "\n",
        "## 1. 개념 정리\n",
        "\n",
        "- **다항 회귀 (Polynomial Regression)**  \n",
        "  - **목적**: 비선형 관계를 선형 모델로 잡아내기 위해, 원본 특성을 거듭제곱/교호항으로 확장  \n",
        "\n",
        "- **다중 회귀 (Multiple Linear Regression)**  \n",
        "  - **목적**: 여러 개의 독립 변수(X₁, X₂, …, Xₚ)가 종속 변수(y)에 미치는 영향을 동시에 모델링  \n",
        "\n",
        "\n",
        "---\n",
        "\n",
        "## 2. 보강 주제\n",
        "\n",
        "1. **특성 스케일링**  \n",
        "   - 다항 거듭제곱 항은 값 범위 급증 → `StandardScaler` 등 선처리 필요  \n",
        "2. **과적합 위험**  \n",
        "   - 고차 다항(d≫) 시 **학습 MSE↓, 테스트 MSE↑**  \n",
        "   - 해결: 정규화(Ridge, Lasso)  \n",
        "3. **더미 인코딩 (Dummy Encoding)**  \n",
        "   - 범주형 변수를 다중 회귀에 포함할 때 필요  \n",
        "4. **교차 검증 & 그리드 서치**  \n",
        "   - polynomial degree & regularization strength 튜닝\n",
        "\n",
        "---"
      ],
      "metadata": {
        "id": "ahpWewsbkmRw"
      }
    },
    {
      "cell_type": "code",
      "source": [
        "import numpy as np\n",
        "from sklearn.linear_model import LinearRegression, Ridge\n",
        "from sklearn.preprocessing import PolynomialFeatures, StandardScaler\n",
        "from sklearn.model_selection import train_test_split\n",
        "from statsmodels.stats.outliers_influence import variance_inflation_factor\n",
        "import pandas as pd\n",
        "import matplotlib.pyplot as plt\n",
        "\n",
        "# **다항 회귀 (Polynomial Regression)**\n",
        "X = np.linspace(0,5,100)[:,None]\n",
        "y = 2 + 1.5*X.ravel() - 0.8*X.ravel()**2 + 0.5*np.random.randn(100)\n",
        "plt.scatter(X,y)\n",
        "#Xp = PolynomialFeatures().fit_transform(X)\n",
        "m = LinearRegression().fit(Xp, y)\n",
        "plt.plot(X, m.predict(Xp), c='r')\n",
        "print(\"Poly R²:\", m.score(Xp, y))"
      ],
      "metadata": {
        "colab": {
          "base_uri": "https://localhost:8080/",
          "height": 449
        },
        "id": "ERf1QmP4mhez",
        "outputId": "e4e88180-ba75-4dc3-fae4-b968639f59ba"
      },
      "execution_count": 13,
      "outputs": [
        {
          "output_type": "stream",
          "name": "stdout",
          "text": [
            "Poly R²: 0.9856163630950934\n"
          ]
        },
        {
          "output_type": "display_data",
          "data": {
            "text/plain": [
              "<Figure size 640x480 with 1 Axes>"
            ],
            "image/png": "[encoded data removed]"
          },
          "metadata": {}
        }
      ]
    },
    {
      "cell_type": "code",
      "source": [
        "X_mul = np.random.randn(200,3)\n",
        "y_mul = 1 + X_mul.dot([2,-3,0.5]) + 0.3*np.random.randn(200)\n",
        "Xt, Xv, yt, yv = train_test_split(X_mul, y_mul, test_size=0.3, random_state=1)\n",
        "Xt_s = StandardScaler().fit_transform(Xt)\n",
        "m2 = LinearRegression().fit(Xt_s, yt)\n",
        "print(\"Mult R²:\", m2.score(StandardScaler().fit_transform(Xv), yv))"
      ],
      "metadata": {
        "colab": {
          "base_uri": "https://localhost:8080/"
        },
        "id": "l2IgKrsInCSX",
        "outputId": "c5baa2cf-bda7-49d6-accf-f5c1815a4aa0"
      },
      "execution_count": 14,
      "outputs": [
        {
          "output_type": "stream",
          "name": "stdout",
          "text": [
            "Mult R²: 0.982619802056497\n"
          ]
        }
      ]
    },
    {
      "cell_type": "markdown",
      "source": [
        "# Ridge & Lasso 회귀 심화\n",
        "\n",
        "---\n",
        "\n",
        "## 1. 개념\n",
        "\n",
        "- **Ridge 회귀 (L₂ 정규화)**  \n",
        "  - 손실 함수에 계수 제곱합 패널티 추가  \n",
        "  - 과적합 줄이기 위해 큰 계수 값 억제  \n",
        "\n",
        "- **Lasso 회귀 (L₁ 정규화)**  \n",
        "  - 손실 함수에 계수 절댓값 합 패널티 추가  \n",
        "  - 일부 계수를 0으로 만들어 **특성 선택** 효과  \n",
        "\n",
        "---\n",
        "\n",
        "## 2. 하이퍼파라미터\n",
        "\n",
        "- **alpha (규제 강도)**  \n",
        "  - **작을수록** 일반 선형회귀에 가까움 (패널티 약함)  \n",
        "  - **클수록** 계수 더 작게(또는 0으로) → 단순 모델\n",
        "\n",
        "---\n",
        "\n",
        "## 3. 장단점\n",
        "\n",
        "|               | Ridge                                 | Lasso                                  |\n",
        "|---------------|---------------------------------------|----------------------------------------|\n",
        "| 장점          | 모든 특성 사용, 과대적합 완화         | 특성 선택 기능, 단순 모델              |\n",
        "| 단점          | 계수를 0으로 만들지 못함              | 강한 규제 시 중요한 특성까지 제거될 수 있음 |\n",
        "\n",
        "---\n",
        "\n",
        "## 4. 보강 주제\n",
        "\n",
        "1. **교차검증을 통한 α 탐색** (`GridSearchCV`)  \n",
        "2. **계수 경로(Coef Path)**: α 변화에 따른 계수 궤적 시각화  \n",
        "3. **표준화 필수**: `StandardScaler`  \n",
        "4. **ElasticNet**: L₁ + L₂ 혼합 규제  \n",
        "5. **좌표 하강법(Coordinate Descent)**: Lasso 최적화 알고리즘  \n",
        "\n"
      ],
      "metadata": {
        "id": "58Hklq2npc5Y"
      }
    },
    {
      "cell_type": "code",
      "source": [
        "import numpy as np\n",
        "import matplotlib.pyplot as plt\n",
        "from sklearn.linear_model import Ridge, Lasso\n",
        "from sklearn.preprocessing import StandardScaler\n",
        "from sklearn.model_selection import train_test_split\n",
        "\n",
        "# 1) 데이터 생성 (다항 관계 + 잡음)\n",
        "np.random.seed(0)\n",
        "X = np.sort(np.random.rand(100,1)*10, axis=0)\n",
        "y = 1.5*X.ravel() - 0.2*X.ravel()**2 + np.random.randn(100)*2\n",
        "\n",
        "# 2) 스케일링\n",
        "X_s = StandardScaler().fit_transform(X)\n",
        "\n",
        "# 3) alpha별 계수 경로 비교\n",
        "alphas = np.logspace(-2, 2, 50)\n",
        "coefs_ridge = []\n",
        "coefs_lasso = []\n",
        "for a in alphas:\n",
        "    coefs_ridge.append(Ridge(alpha=a).fit(X_s, y).coef_[0])\n",
        "    coefs_lasso.append(Lasso(alpha=a, max_iter=5000).fit(X_s, y).coef_[0])\n",
        "\n",
        "plt.figure(figsize=(8,5))\n",
        "plt.plot(alphas, coefs_ridge, label='Ridge', linestyle='-')\n",
        "plt.plot(alphas, coefs_lasso, label='Lasso', linestyle='--')\n",
        "plt.xscale('log')\n",
        "plt.xlabel('alpha'); plt.ylabel('Coefficient')\n",
        "plt.title('Coefficient Path (α vs w)')\n",
        "plt.legend(); plt.grid(True)\n",
        "plt.show()\n",
        "\n",
        "# 4) 모델 평가 예제\n",
        "X_tr, X_te, y_tr, y_te = train_test_split(X_s, y, test_size=0.3, random_state=1)\n",
        "for Model, name in [(Ridge, 'Ridge'), (Lasso, 'Lasso')]:\n",
        "    m = Model(alpha=1.0, max_iter=5000).fit(X_tr, y_tr)\n",
        "    print(f\"{name} R² (test):\", m.score(X_te, y_te))\n"
      ],
      "metadata": {
        "colab": {
          "base_uri": "https://localhost:8080/",
          "height": 529
        },
        "id": "b9lCcwFhpFt1",
        "outputId": "a6bef2c6-39a4-464b-d100-fcbdbab4b8e1"
      },
      "execution_count": 16,
      "outputs": [
        {
          "output_type": "display_data",
          "data": {
            "text/plain": [
              "<Figure size 800x500 with 1 Axes>"
            ],
            "image/png": "[encoded data removed]"
          },
          "metadata": {}
        },
        {
          "output_type": "stream",
          "name": "stdout",
          "text": [
            "Ridge R² (test): 0.38998770266324767\n",
            "Lasso R² (test): 0.1559773449588323\n"
          ]
        }
      ]
    },
    {
      "cell_type": "markdown",
      "source": [
        "## 실습 과제\n",
        "\n",
        "1. **α 탐색**  \n",
        "   - Ridge/Lasso 각각 α ∈ [0.01,0.1,1,10,100] 실험 → 테스트 R² 비교  \n",
        "\n",
        "2. **GridSearchCV 활용**  \n",
        "   - `param_grid={'alpha':[0.01,0.1,1,10,100]}`로 최적 α 찾기  \n",
        "\n",
        "3. **ElasticNet 적용**  \n",
        "   - `ElasticNet(l1_ratio=0.5, alpha=1)` 사용해 보고 R² 확인  \n",
        "\n",
        "4. **계수 경로 해석**  \n",
        "   - α 증가 시 Ridge는 계수가 작아지지만 0 근처 유지, Lasso는 **0**으로 수렴함을 확인  \n",
        "\n",
        "5. **좌표 하강법**  \n",
        "   - Lasso에서 `max_iter`를 줄여보거나 `tol` 변경해 수렴 속도 관찰  \n"
      ],
      "metadata": {
        "id": "VH8M6PklqfAH"
      }
    },
    {
      "cell_type": "code",
      "source": [
        "from sklearn.linear_model import ElasticNet\n",
        "from sklearn.model_selection import GridSearchCV\n",
        "import numpy as np\n",
        "\n",
        "# 1) α 탐색\n",
        "for a in [0.01,0.1,1,10,100]:\n",
        "    for Model,name in [(Ridge,'Ridge'),(Lasso,'Lasso')]:\n",
        "        m = Model(alpha=a, max_iter=5000).fit(X_tr, y_tr)\n",
        "        print(f\"{name} α={a}: R²={m.score(X_te,y_te):.3f}\")\n",
        "print()\n",
        "\n",
        "# 2) GridSearchCV\n",
        "grid = GridSearchCV(Ridge(), {'alpha':[0.01,0.1,1,10,100]}, cv=5)\n",
        "grid.fit(X_s, y)\n",
        "print(\"Best Ridge α:\", grid.best_params_['alpha'])\n",
        "\n",
        "# 3) ElasticNet\n",
        "m_el = ElasticNet(alpha=1, l1_ratio=0.5, max_iter=5000).fit(X_tr, y_tr)\n",
        "print(\"ElasticNet R²:\", m_el.score(X_te, y_te))\n",
        "\n",
        "# 4) 좌표 하강법 수렴 실험\n",
        "for tol in [1e-4,1e-2,1e-1]:\n",
        "    m = Lasso(alpha=1, tol=tol, max_iter=100).fit(X_s, y)\n",
        "    print(f\"Lasso tol={tol}: coeff={m.coef_[0]:.3f}\")"
      ],
      "metadata": {
        "colab": {
          "base_uri": "https://localhost:8080/"
        },
        "id": "NAuIQzHIqh_h",
        "outputId": "cc906c7c-f365-4c31-e5a4-f6516544961a"
      },
      "execution_count": 17,
      "outputs": [
        {
          "output_type": "stream",
          "name": "stdout",
          "text": [
            "Ridge α=0.01: R²=0.393\n",
            "Lasso α=0.01: R²=0.391\n",
            "Ridge α=0.1: R²=0.393\n",
            "Lasso α=0.1: R²=0.377\n",
            "Ridge α=1: R²=0.390\n",
            "Lasso α=1: R²=0.156\n",
            "Ridge α=10: R²=0.364\n",
            "Lasso α=10: R²=-0.003\n",
            "Ridge α=100: R²=0.207\n",
            "Lasso α=100: R²=-0.003\n",
            "\n",
            "Best Ridge α: 100\n",
            "ElasticNet R²: 0.21553340409301514\n",
            "Lasso tol=0.0001: coeff=-0.629\n",
            "Lasso tol=0.01: coeff=-0.629\n",
            "Lasso tol=0.1: coeff=-0.629\n"
          ]
        }
      ]
    },
    {
      "cell_type": "code",
      "source": [
        "from sklearn.pipeline import Pipeline\n",
        "from sklearn.preprocessing import StandardScaler\n",
        "from sklearn.linear_model import Ridge, Lasso\n",
        "from sklearn.model_selection import GridSearchCV, train_test_split\n",
        "\n",
        "# 기존에 생성된 X, y 데이터 사용\n",
        "X_train, X_test, y_train, y_test = train_test_split(\n",
        "    X, y, test_size=0.3, random_state=42\n",
        ")\n",
        "\n",
        "# Ridge 회귀 파이프라인 + GridSearch\n",
        "pipe_ridge = Pipeline([\n",
        "    ('scaler', StandardScaler()),\n",
        "    ('ridge', Ridge())\n",
        "])\n",
        "param_ridge = {'ridge__alpha': [0.01, 0.1, 1, 10, 100]}\n",
        "grid_ridge = GridSearchCV(\n",
        "    pipe_ridge, param_ridge, cv=5, scoring='neg_mean_squared_error'\n",
        ")\n",
        "grid_ridge.fit(X_train, y_train)\n",
        "print(\"Ridge Best α:\", grid_ridge.best_params_['ridge__alpha'])\n",
        "print(\"Ridge CV MSE:\", -grid_ridge.best_score_)\n",
        "print(\"Ridge Test R²:\", grid_ridge.score(X_test, y_test))\n",
        "\n",
        "# Lasso 회귀 파이프라인 + GridSearch\n",
        "pipe_lasso = Pipeline([\n",
        "    ('scaler', StandardScaler()),\n",
        "    ('lasso', Lasso(max_iter=5000))\n",
        "])\n",
        "param_lasso = {'lasso__alpha': [0.001, 0.01, 0.1, 1, 10]}\n",
        "grid_lasso = GridSearchCV(\n",
        "    pipe_lasso, param_lasso, cv=5, scoring='neg_mean_squared_error'\n",
        ")\n",
        "grid_lasso.fit(X_train, y_train)\n",
        "print(\"Lasso Best α:\", grid_lasso.best_params_['lasso__alpha'])\n",
        "print(\"Lasso CV MSE:\", -grid_lasso.best_score_)\n",
        "print(\"Lasso Test R²:\", grid_lasso.score(X_test, y_test))\n"
      ],
      "metadata": {
        "colab": {
          "base_uri": "https://localhost:8080/"
        },
        "id": "3PKQfDLnrSJZ",
        "outputId": "725b9b33-9cf0-4803-ab76-6f1899a4183f"
      },
      "execution_count": 18,
      "outputs": [
        {
          "output_type": "stream",
          "name": "stdout",
          "text": [
            "Ridge Best α: 10\n",
            "Ridge CV MSE: 7.312557477600272\n",
            "Ridge Test R²: -5.4606823248627\n",
            "Lasso Best α: 0.1\n",
            "Lasso CV MSE: 7.350990640399918\n",
            "Lasso Test R²: -5.546816649415015\n"
          ]
        }
      ]
    },
    {
      "cell_type": "code",
      "source": [
        "import numpy as np\n",
        "from sklearn.datasets import make_regression\n",
        "from sklearn.linear_model import ElasticNet\n",
        "from sklearn.model_selection import train_test_split\n",
        "from sklearn.preprocessing import StandardScaler\n",
        "from sklearn.metrics import mean_squared_error, r2_score\n",
        "\n",
        "# 1) 데이터 생성\n",
        "X, y = make_regression(\n",
        "    n_samples=200, n_features=10, n_informative=5,\n",
        "    noise=10, random_state=1\n",
        ")\n",
        "\n",
        "# 2) 학습/테스트 분할 및 스케일링\n",
        "X_tr, X_te, y_tr, y_te = train_test_split(\n",
        "    X, y, test_size=0.3, random_state=42\n",
        ")\n",
        "scaler = StandardScaler()\n",
        "X_tr_s = scaler.fit_transform(X_tr)\n",
        "X_te_s = scaler.transform(X_te)\n",
        "\n",
        "# 3) ElasticNet 모델 학습\n",
        "model = ElasticNet(alpha=1.0, l1_ratio=0.5, random_state=0)\n",
        "model.fit(X_tr_s, y_tr)\n",
        "\n",
        "# 4) 예측 및 평가\n",
        "y_pred = model.predict(X_te_s)\n",
        "print(\"R²:\", r2_score(y_te, y_pred))\n",
        "print(\"MSE:\", mean_squared_error(y_te, y_pred))\n",
        "print(\"Non-zero coefficients:\", np.sum(model.coef_ != 0))\n",
        "print(\"Coefficients:\", model.coef_)\n"
      ],
      "metadata": {
        "colab": {
          "base_uri": "https://localhost:8080/"
        },
        "id": "kPN2erIgu2dS",
        "outputId": "a5cd6e84-1c7d-48db-b05e-9610b17b0f43"
      },
      "execution_count": 19,
      "outputs": [
        {
          "output_type": "stream",
          "name": "stdout",
          "text": [
            "R²: 0.8520771874288666\n",
            "MSE: 2859.1401767340935\n",
            "Non-zero coefficients: 9\n",
            "Coefficients: [ 3.17870163e-01  0.00000000e+00  6.07496445e+00  6.20029722e+01\n",
            "  4.92169828e+01  1.74013064e+00 -6.99830562e+00  2.07644402e-02\n",
            "  5.58648303e+01  1.29606361e+00]\n"
          ]
        }
      ]
    },
    {
      "cell_type": "code",
      "source": [
        "import pandas as pd\n",
        "from sklearn.model_selection import train_test_split, GridSearchCV\n",
        "from sklearn.preprocessing import StandardScaler, PolynomialFeatures\n",
        "from sklearn.linear_model import LinearRegression, Ridge, Lasso, ElasticNet\n",
        "from sklearn.pipeline import Pipeline\n",
        "from sklearn.metrics import mean_squared_error, r2_score\n",
        "\n",
        "# 1) 데이터 로드\n",
        "df = pd.read_csv('manhattan.csv')\n",
        "X = df.drop(columns=['price'])\n",
        "y = df['price']\n",
        "\n",
        "# 2) train/test 분할\n",
        "X_tr, X_te, y_tr, y_te = train_test_split(X, y, test_size=0.3, random_state=42)\n",
        "\n",
        "# 3) 파이프라인 정의\n",
        "models = {\n",
        "    'Linear': Pipeline([('scaler', StandardScaler()), ('lr', LinearRegression())]),\n",
        "    'Poly2': Pipeline([\n",
        "        ('scaler', StandardScaler()),\n",
        "        ('poly', PolynomialFeatures(degree=2, include_bias=False)),\n",
        "        ('lr', LinearRegression())\n",
        "    ]),\n",
        "    'Ridge': Pipeline([('scaler', StandardScaler()), ('ridge', Ridge())]),\n",
        "    'Lasso': Pipeline([('scaler', StandardScaler()), ('lasso', Lasso(max_iter=5000))]),\n",
        "    'ElasticNet': Pipeline([('scaler', StandardScaler()), ('en', ElasticNet(max_iter=5000))])\n",
        "}\n",
        "\n",
        "# 4) 하이퍼파라미터 그리드\n",
        "param_grids = {\n",
        "    'Ridge': {'ridge__alpha': [0.01, 0.1, 1, 10, 100]},\n",
        "    'Lasso': {'lasso__alpha': [0.001, 0.01, 0.1, 1]},\n",
        "    'ElasticNet': {\n",
        "        'en__alpha': [0.01, 0.1, 1],\n",
        "        'en__l1_ratio': [0.3, 0.5, 0.7]\n",
        "    }\n",
        "}\n",
        "\n",
        "# 5) 모델 학습 및 평가\n",
        "results = {}\n",
        "for name, pipe in models.items():\n",
        "    if name in param_grids:\n",
        "        gs = GridSearchCV(pipe, param_grids[name], cv=5, scoring='neg_mean_squared_error')\n",
        "        gs.fit(X_tr, y_tr)\n",
        "        model = gs.best_estimator_\n",
        "    else:\n",
        "        model = pipe.fit(X_tr, y_tr)\n",
        "    preds = model.predict(X_te)\n",
        "    results[name] = {\n",
        "        'R2': r2_score(y_te, preds),\n",
        "        'MSE': mean_squared_error(y_te, preds)\n",
        "    }\n",
        "\n",
        "# 6) 결과 출력\n",
        "from pprint import pprint\n",
        "pprint(results)\n"
      ],
      "metadata": {
        "colab": {
          "base_uri": "https://localhost:8080/"
        },
        "id": "CqGgxloVwOdE",
        "outputId": "bf5d993c-e3db-482c-9ee1-9f12fdad33e1"
      },
      "execution_count": 25,
      "outputs": [
        {
          "output_type": "stream",
          "name": "stdout",
          "text": [
            "{'ElasticNet': {'MSE': 202365.8471602798, 'R2': -0.0218201690754094},\n",
            " 'Lasso': {'MSE': 210175.12575214554, 'R2': -0.061252111189520564},\n",
            " 'Linear': {'MSE': 210473.8819667107, 'R2': -0.06276064205064702},\n",
            " 'Poly2': {'MSE': 268400.3525853689, 'R2': -0.3552528626110585},\n",
            " 'Ridge': {'MSE': 202329.47505393066, 'R2': -0.021636512829156018}}\n"
          ]
        }
      ]
    }
  ]
}